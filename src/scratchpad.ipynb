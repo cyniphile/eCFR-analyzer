{
 "cells": [
  {
   "cell_type": "code",
   "execution_count": 1,
   "metadata": {},
   "outputs": [],
   "source": [
    "from download_data import get_titles_list, BASE_URL, get_project_root\n",
    "import requests\n",
    "\n",
    "# r = get_titles_list()"
   ]
  },
  {
   "cell_type": "code",
   "execution_count": 3,
   "metadata": {},
   "outputs": [],
   "source": [
    "TEST_TITLE = 1\n",
    "title = TEST_TITLE\n",
    "versions = f\"/api/versioner/v1/versions/title-{title}.json\"\n",
    "\n",
    "r = requests.get(BASE_URL + versions)"
   ]
  },
  {
   "cell_type": "code",
   "execution_count": 5,
   "metadata": {},
   "outputs": [],
   "source": [
    "root = get_project_root()\n",
    "title_changes_path = root / \"data\" / \"title_changes\"\n",
    "if not title_changes_path.exists():\n",
    "    title_changes_path.mkdir(parents=True)\n",
    "with open(title_changes_path / f\"title_{title}_changes.json\", \"w\") as f:\n",
    "    f.write(r.text)"
   ]
  }
 ],
 "metadata": {
  "kernelspec": {
   "display_name": ".venv",
   "language": "python",
   "name": "python3"
  },
  "language_info": {
   "codemirror_mode": {
    "name": "ipython",
    "version": 3
   },
   "file_extension": ".py",
   "mimetype": "text/x-python",
   "name": "python",
   "nbconvert_exporter": "python",
   "pygments_lexer": "ipython3",
   "version": "3.13.1"
  }
 },
 "nbformat": 4,
 "nbformat_minor": 2
}
