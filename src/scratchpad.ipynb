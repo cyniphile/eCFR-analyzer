{
 "cells": [
  {
   "cell_type": "code",
   "execution_count": 42,
   "metadata": {},
   "outputs": [],
   "source": [
    "import requests\n",
    "import os\n",
    "from pathlib import Path\n",
    "import time"
   ]
  },
  {
   "cell_type": "code",
   "execution_count": 32,
   "metadata": {},
   "outputs": [
    {
     "name": "stdout",
     "output_type": "stream",
     "text": [
      "Data will be saved to /Users/luke/self/eCFR-analyzer/data\n"
     ]
    }
   ],
   "source": [
    "BASE_URL = \"https://www.ecfr.gov/\"\n",
    "\n",
    "# Find the root of the git repository\n",
    "git_root = Path(os.popen('git rev-parse --show-toplevel').read().strip())\n",
    "# Find the ./data directory relative to the root of the git repo\n",
    "data_dir = git_root / \"data\"\n",
    "print(f\"Data will be saved to { data_dir }\")"
   ]
  },
  {
   "cell_type": "code",
   "execution_count": 33,
   "metadata": {},
   "outputs": [],
   "source": [
    "# list all titles\n",
    "titles_list_url = \"https://www.ecfr.gov/api/versioner/v1/titles\"\n",
    "tl = requests.get(titles_list_url)\n",
    "tlj = tl.json()\n",
    "titles =  tlj['titles']"
   ]
  },
  {
   "cell_type": "code",
   "execution_count": null,
   "metadata": {},
   "outputs": [
    {
     "name": "stdout",
     "output_type": "stream",
     "text": [
      "Downloading title 1 as of 2025-04-11\n",
      "Downloaded title 1 in 2.39 seconds\n",
      "Downloading title 2 as of 2025-04-11\n",
      "Downloaded title 2 in 8.69 seconds\n",
      "Downloading title 3 as of 2025-04-11\n",
      "Downloaded title 3 in 0.40 seconds\n",
      "Downloading title 4 as of 2025-04-11\n",
      "Downloaded title 4 in 1.61 seconds\n",
      "Downloading title 5 as of 2025-04-11\n",
      "Downloaded title 5 in 22.42 seconds\n",
      "Downloading title 6 as of 2025-04-11\n",
      "Downloaded title 6 in 2.64 seconds\n",
      "Downloading title 7 as of 2025-04-11\n",
      "Downloaded title 7 in 56.27 seconds\n",
      "Downloading title 8 as of 2025-04-11\n",
      "Downloaded title 8 in 5.74 seconds\n",
      "Downloading title 9 as of 2025-04-11\n",
      "Downloaded title 9 in 9.34 seconds\n",
      "Downloading title 10 as of 2025-04-11\n",
      "Downloaded title 10 in 35.46 seconds\n",
      "Downloading title 11 as of 2025-04-11\n",
      "Downloaded title 11 in 3.67 seconds\n",
      "Downloading title 12 as of 2025-04-11\n",
      "Downloaded title 12 in 71.54 seconds\n",
      "Downloading title 13 as of 2025-04-11\n",
      "Downloaded title 13 in 5.16 seconds\n",
      "Downloading title 14 as of 2025-04-11\n",
      "Downloaded title 14 in 17.43 seconds\n",
      "Downloading title 15 as of 2025-04-11\n",
      "Downloaded title 15 in 15.37 seconds\n",
      "Downloading title 16 as of 2025-04-11\n",
      "Downloaded title 16 in 8.85 seconds\n",
      "Downloading title 17 as of 2025-04-11\n",
      "Downloaded title 17 in 23.12 seconds\n",
      "Downloading title 18 as of 2025-04-11\n",
      "Downloaded title 18 in 8.40 seconds\n",
      "Downloading title 19 as of 2025-04-11\n",
      "Downloaded title 19 in 12.44 seconds\n",
      "Downloading title 20 as of 2025-04-11\n",
      "Downloaded title 20 in 14.81 seconds\n",
      "Downloading title 21 as of 2025-04-11\n",
      "Downloaded title 21 in 23.10 seconds\n",
      "Downloading title 22 as of 2025-04-11\n",
      "Downloaded title 22 in 8.20 seconds\n",
      "Downloading title 23 as of 2025-04-11\n",
      "Downloaded title 23 in 4.84 seconds\n",
      "Downloading title 24 as of 2025-04-11\n",
      "Downloaded title 24 in 14.40 seconds\n",
      "Downloading title 25 as of 2025-04-11\n",
      "Downloaded title 25 in 6.78 seconds\n",
      "Downloading title 26 as of 2025-04-11\n",
      "Downloaded title 26 in 114.99 seconds\n",
      "Downloading title 27 as of 2025-04-11\n",
      "Downloaded title 27 in 6.95 seconds\n",
      "Downloading title 28 as of 2025-04-11\n",
      "Downloaded title 28 in 15.94 seconds\n",
      "Downloading title 29 as of 2025-04-11\n",
      "Downloaded title 29 in 31.11 seconds\n",
      "Downloading title 30 as of 2025-04-11\n",
      "Downloaded title 30 in 11.39 seconds\n",
      "Downloading title 31 as of 2025-04-11\n",
      "Downloaded title 31 in 28.86 seconds\n",
      "Downloading title 32 as of 2025-04-11\n",
      "Downloaded title 32 in 13.72 seconds\n",
      "Downloading title 33 as of 2025-04-11\n",
      "Downloaded title 33 in 11.68 seconds\n",
      "Downloading title 34 as of 2025-04-11\n",
      "Downloaded title 34 in 10.76 seconds\n",
      "Downloading title 35 as of None\n",
      "Downloaded title 35 in 0.27 seconds\n",
      "Downloading title 36 as of 2025-04-11\n",
      "Downloaded title 36 in 9.45 seconds\n",
      "Downloading title 37 as of 2025-04-11\n",
      "Downloaded title 37 in 6.19 seconds\n",
      "Downloading title 38 as of 2025-04-11\n",
      "Downloaded title 38 in 10.92 seconds\n",
      "Downloading title 39 as of 2025-04-11\n",
      "Downloaded title 39 in 3.75 seconds\n",
      "Downloading title 40 as of 2025-04-11\n",
      "Downloaded title 40 in 185.87 seconds\n",
      "Downloading title 41 as of 2025-04-11\n",
      "Downloaded title 41 in 8.91 seconds\n",
      "Downloading title 42 as of 2025-04-11\n",
      "Downloaded title 42 in 49.94 seconds\n",
      "Downloading title 43 as of 2025-04-11\n",
      "Downloaded title 43 in 18.50 seconds\n",
      "Downloading title 44 as of 2025-04-11\n",
      "Downloaded title 44 in 3.61 seconds\n",
      "Downloading title 45 as of 2025-04-11\n",
      "Downloaded title 45 in 38.47 seconds\n",
      "Downloading title 46 as of 2025-04-11\n",
      "Downloaded title 46 in 65.58 seconds\n",
      "Downloading title 47 as of 2025-04-11\n",
      "Downloaded title 47 in 68.04 seconds\n",
      "Downloading title 48 as of 2025-04-11\n",
      "Downloaded title 48 in 79.77 seconds\n",
      "Downloading title 49 as of 2025-04-11\n",
      "Downloaded title 49 in 88.40 seconds\n",
      "Downloading title 50 as of 2025-04-11\n",
      "Downloaded title 50 in 90.47 seconds\n"
     ]
    }
   ],
   "source": [
    "# download all titles\n",
    "if not os.path.exists(data_dir):\n",
    "    os.makedirs(data_dir)\n",
    "for title in titles:\n",
    "    title_number = title['number']\n",
    "    date = title['up_to_date_as_of']\n",
    "    print(f\"Downloading title {title_number} as of {date}\")\n",
    "    title_url = f\"{BASE_URL}/api/versioner/v1/full/{date}/title-{title_number}.xml\"\n",
    "    start_time = time.time()\n",
    "    response = requests.get(title_url)\n",
    "    print(f\"Downloaded title {title_number} in {time.time() - start_time:.2f} seconds\")\n",
    "    with open(f\"{data_dir}/raw_part_xml/title_{title_number}.xml\", \"wb\") as f:\n",
    "        f.write(response.content)\n",
    "    "
   ]
  }
 ],
 "metadata": {
  "kernelspec": {
   "display_name": ".venv",
   "language": "python",
   "name": "python3"
  },
  "language_info": {
   "codemirror_mode": {
    "name": "ipython",
    "version": 3
   },
   "file_extension": ".py",
   "mimetype": "text/x-python",
   "name": "python",
   "nbconvert_exporter": "python",
   "pygments_lexer": "ipython3",
   "version": "3.13.1"
  }
 },
 "nbformat": 4,
 "nbformat_minor": 2
}
